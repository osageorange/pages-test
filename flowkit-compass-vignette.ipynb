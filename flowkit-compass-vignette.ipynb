{
  "cells": [
    {
      "cell_type": "raw",
      "metadata": {},
      "source": [
        "---\n",
        "title: FlowKit COMPASS Vignette\n",
        "author: Tyler Schappe\n",
        "html:\n",
        "  toc: true\n",
        "  toc_float: true\n",
        "  df-print: paged\n",
        "---"
      ],
      "id": "fb34bfc6"
    },
    {
      "cell_type": "markdown",
      "metadata": {},
      "source": [
        "## List of Things to Check\n",
        "\n",
        "1.  Custom gates for any samples?\n",
        "  - FlowKit 1.0 will have a way to check this automatically\n",
        "2.  Visualize gates to check shapes\n",
        "  - Rectangle vs quadrant\n",
        "  - Modify how to extract thresholds\n",
        "  - Min or Max, or both?\n",
        "3.  Compensation?\n",
        "4.  Transformations?\n",
        "\n",
        "\n",
        "## Processing Raw Flow Cytometry Data Using FlowKit\n",
        "\n",
        "<!-- ```{r} -->\n",
        "<!-- library(reticulate) -->\n",
        "<!-- use_python(\"/usr/bin/python3\") -->\n",
        "<!-- options(reticulate.repl.quiet = TRUE) -->\n",
        "<!-- ``` -->\n",
        "\n",
        "\n",
        "### FlowKit Setup\n",
        "\n",
        "\n",
        "```{quarto}\n",
        "import os\n",
        "import flowkit as fk\n",
        "import numpy as np\n",
        "import pandas as pd\n",
        "import anndata as ad\n",
        "import itertools\n",
        "import bokeh\n",
        "import copy\n",
        "\n",
        "from bokeh.plotting import show\n",
        "#Example of Bokeh in Quarto (http://dev.ipol.im/~qbammey/quarto.html#/alternative-bokeh)\n",
        "from bokeh.io import output_notebook #Needed for Bokeh in Quarto\n",
        "output_notebook(resources=bokeh.resources.Resources(mode='cdn'), hide_banner=True) #Needed for Bokeh in Quarto\n",
        "\n",
        "\n",
        "# Check version so users can verify they have the same version/API\n",
        "fk.__version__\n",
        "```\n",
        "\n",
        "\n",
        "#### Set the Data File Paths\n"
      ],
      "id": "fecebd59"
    },
    {
      "cell_type": "code",
      "metadata": {},
      "source": [
        "data_dir = \"/opt/flowkit/examples/data/8_color_data_set\"\n",
        "sample_path = os.path.join(data_dir, \"fcs_files\")\n",
        "wsp_path = os.path.join(data_dir, \"8_color_ICS.wsp\")"
      ],
      "id": "1cf43d6b",
      "execution_count": null,
      "outputs": []
    },
    {
      "cell_type": "markdown",
      "metadata": {},
      "source": [
        "### Load Raw Flow Cytometry Data Files\n",
        "\n",
        "We create a FlowKit session using the FCS files. We also import a corresponding FlowJo workspace (.wsp) file that contains any compensations, transformations, and manual gating done in FlowJo.\n"
      ],
      "id": "51e64674"
    },
    {
      "cell_type": "code",
      "metadata": {},
      "source": [
        "# Create a Session with the path to our FCS files. \n",
        "session = fk.Session(sample_path)\n",
        "\n",
        "# Import a FlowJo 10 workspace file\n",
        "session.import_flowjo_workspace(wsp_path)"
      ],
      "id": "f70b4054",
      "execution_count": null,
      "outputs": []
    },
    {
      "cell_type": "markdown",
      "metadata": {},
      "source": [
        "#### Examine Dataset Summary\n"
      ],
      "id": "ecdd7995"
    },
    {
      "cell_type": "code",
      "metadata": {},
      "source": [
        "session.summary()"
      ],
      "id": "8876755c",
      "execution_count": null,
      "outputs": []
    },
    {
      "cell_type": "markdown",
      "metadata": {},
      "source": [
        "#### Choose the Sample Group\n",
        "\n",
        "From the summary, we can see all of the samples that have manual gating are in the 'DEN' sample group, so we infer this is the group of interest.\n"
      ],
      "id": "31bb8b38"
    },
    {
      "cell_type": "code",
      "metadata": {},
      "source": [
        "sample_group = 'DEN'"
      ],
      "id": "594b215d",
      "execution_count": null,
      "outputs": []
    },
    {
      "cell_type": "markdown",
      "metadata": {},
      "source": [
        "### Check Transformations\n",
        "\n",
        "Channel transformations can be applied in FlowJo in a number of ways. Particularly, if different transformations have been applied to different channels, we want to be careful about comparing among channels.In general, we would like the following transformations:\n",
        "\n",
        "-   For color gates, the same logicle transform applied to all\n",
        "-   For forward- and side-scatter gates, the same linear transform applied to all\n",
        "-   We don't really care about the time channel since we will be excluding it later.\n",
        "\n",
        "The results here include any transformations that were applied to any channel in FlowJo from the FCS in the workspace in that sample group.\n"
      ],
      "id": "fecbfda1"
    },
    {
      "cell_type": "code",
      "metadata": {},
      "source": [
        "session.get_group_transforms(group_name = sample_group)"
      ],
      "id": "5cad6838",
      "execution_count": null,
      "outputs": []
    },
    {
      "cell_type": "markdown",
      "metadata": {},
      "source": [
        "The transforms here all look consistent across samples.\n",
        "\n",
        "#### Get the Sample IDs for the Sample Group of Interest\n"
      ],
      "id": "743eb13c"
    },
    {
      "cell_type": "code",
      "metadata": {},
      "source": [
        "sample_list = session.get_group_sample_ids(sample_group)\n",
        "\n",
        "sample_list"
      ],
      "id": "4c534540",
      "execution_count": null,
      "outputs": []
    },
    {
      "cell_type": "markdown",
      "metadata": {},
      "source": [
        "### Process the Samples\n"
      ],
      "id": "13d1cf86"
    },
    {
      "cell_type": "code",
      "metadata": {},
      "source": [
        "session.analyze_samples(sample_group, verbose = False)"
      ],
      "id": "15c1632b",
      "execution_count": null,
      "outputs": []
    },
    {
      "cell_type": "markdown",
      "metadata": {},
      "source": [
        "### Choose a Parent Gate\n",
        "\n",
        "We need to define a gate that is a direct parent of the gates we want to use to define the mutually exclusive cell subsets.\n",
        "\n",
        "#### Investigate the Gating Hierarchy\n"
      ],
      "id": "522a3deb"
    },
    {
      "cell_type": "code",
      "metadata": {},
      "source": [
        "print(session.get_gate_hierarchy(sample_group))"
      ],
      "id": "d6b8cd94",
      "execution_count": null,
      "outputs": []
    },
    {
      "cell_type": "markdown",
      "metadata": {},
      "source": [
        "#### Examine All Gates for the Sample Group\n",
        "\n",
        "Note a gate ID is a combination of the gate name plus its gate path\n"
      ],
      "id": "d25f9985"
    },
    {
      "cell_type": "code",
      "metadata": {},
      "source": [
        "session.get_gate_ids(group_name=sample_group)"
      ],
      "id": "7e1240ad",
      "execution_count": null,
      "outputs": []
    },
    {
      "cell_type": "markdown",
      "metadata": {},
      "source": [
        "#### Define the Target Parent Gate\n",
        "\n",
        "For simplicity, this vignette will use the CD4 gate as the parent and we will ignore the CD8 gate for now.\n"
      ],
      "id": "a608c03a"
    },
    {
      "cell_type": "code",
      "metadata": {},
      "source": [
        "parent_gate_name = 'CD4+'"
      ],
      "id": "b16252b8",
      "execution_count": null,
      "outputs": []
    },
    {
      "cell_type": "markdown",
      "metadata": {},
      "source": [
        "#### Get the Parent Gate Path\n",
        "\n",
        "We can obtain child gate IDs and then extract the parent path from one of them (they're all the same)\n"
      ],
      "id": "606d5a1b"
    },
    {
      "cell_type": "code",
      "metadata": {},
      "source": [
        "gate_ids = session.get_child_gate_ids(sample_group, parent_gate_name)\n",
        "parent_gate_path = gate_ids[0][1]\n",
        "parent_gate_path"
      ],
      "id": "a6e85611",
      "execution_count": null,
      "outputs": []
    },
    {
      "cell_type": "markdown",
      "metadata": {},
      "source": [
        "### Visualize the Gates from FlowJo\n",
        "\n",
        "This step is very important to determine how to decide cutoff values to use for the threshold gates that we create below. We need to determine the intent of the manual gates. For example, if rectangle gates were used, for each dimension/marker, we need to decide whether the min, max, or both values were relevant in that they actually excluded some events, or whether they did not exclude any events and are simply an artifact of making a rectangle gate. A common scenario is where an analyst uses a rectangle gate to select a sub-population that have large values of a marker; while the rectangle gate forces a technical maximum value for that marker, the intent of the analyst may be to include any event with a value above some threshold, in which case the maximum value imposed by the rectangle gate is set arbitrarily high so as to no exclude any events above it. In such a case, the maximum value is not relevant and we can simply focus on the minimum value for the gate.\n",
        "\n",
        "#### Define a Single Sample in the Sample Group\n",
        "\n",
        "Because all samples within the sample group share the same gate hierarchy, we can just pick one sample. However, it's possible that samples have different gating cutoffs, so beware!\n"
      ],
      "id": "72a15f44"
    },
    {
      "cell_type": "code",
      "metadata": {},
      "source": [
        "sample_id = '101_DEN084Y5_15_E05_010_clean.fcs'\n",
        "sample = session.get_sample(sample_id)"
      ],
      "id": "1d554387",
      "execution_count": null,
      "outputs": []
    },
    {
      "cell_type": "markdown",
      "metadata": {},
      "source": [
        "#### Get Child Gate Information\n"
      ],
      "id": "e9190f65"
    },
    {
      "cell_type": "code",
      "metadata": {},
      "source": [
        "quadrant_gates = {}\n",
        "\n",
        "for (gate_name, gate_path) in gate_ids:\n",
        "  quadrant_gates[gate_name] = session.get_gate(sample_group, gate_name, gate_path)\n",
        "\n",
        "quadrant_gates"
      ],
      "id": "7fc7161d",
      "execution_count": null,
      "outputs": []
    },
    {
      "cell_type": "markdown",
      "metadata": {},
      "source": [
        "#### Plot Child Gates\n"
      ],
      "id": "7529ea1a"
    },
    {
      "cell_type": "code",
      "metadata": {},
      "source": [
        "for (gate_name, gate_path) in gate_ids:\n",
        "  fig = session.plot_gate(group_name = sample_group, \n",
        "                          sample_id = sample_id, \n",
        "                          gate_name = gate_name, \n",
        "                          gate_path = gate_path,\n",
        "                          x_min = 0,\n",
        "                          x_max = 1.2,\n",
        "                          y_min = 0,\n",
        "                          y_max = 1.2\n",
        "  )\n",
        "  show(fig)"
      ],
      "id": "a5c39a6c",
      "execution_count": null,
      "outputs": []
    },
    {
      "cell_type": "markdown",
      "metadata": {},
      "source": [
        "#### Interpret Child Gates\n",
        "\n",
        "We can see from the plots and from the output of 'quadrant_gates' that each of the child gates is a rectangle gate. We also note that the likely intent of each of these gates was to select events with high values, and therefore their max values are irrelevant. We thus focus on their min values when defining the threshold gates below.\n",
        "\n",
        "### Create Single Threshold Gates\n",
        "\n",
        "#### Gather Details for Each Child Gate\n",
        "\n",
        "We loop over the quadrant gates and extract labels, min, max, compensation, and transformations\n"
      ],
      "id": "d14eb106"
    },
    {
      "cell_type": "code",
      "metadata": {},
      "source": [
        "# A channel label lookup table to switch back and forth between PnN & PnS labels\n",
        "channel_lut = dict(zip(sample.pnn_labels, sample.pns_labels))\n",
        "\n",
        "gate_dims = []\n",
        "\n",
        "for gate_name, gate in quadrant_gates.items():\n",
        "  for dim in gate.dimensions:\n",
        "    gate_dim_dict = {\n",
        "            'gate_name': gate_name,\n",
        "            'pnn_label': dim.id,\n",
        "            'pns_label': channel_lut[dim.id],\n",
        "            'min': dim.min,\n",
        "            'max': dim.max,\n",
        "            'comp_ref': dim.compensation_ref,\n",
        "            'xform_ref': dim.transformation_ref\n",
        "    }\n",
        "  gate_dims.append(gate_dim_dict)\n",
        "    \n",
        "#Collect list of dictionaries into a Pandas dataframe\n",
        "df_gate_dims = pd.DataFrame(gate_dims)\n",
        "\n",
        "df_gate_dims"
      ],
      "id": "8f0a996a",
      "execution_count": null,
      "outputs": []
    },
    {
      "cell_type": "markdown",
      "metadata": {},
      "source": [
        "#### Check For Identical Compensations Among Gates\n",
        "\n",
        "We verify that a single compensation was used across all gates.\n"
      ],
      "id": "e98a1cd4"
    },
    {
      "cell_type": "code",
      "metadata": {},
      "source": [
        "comp_refs = df_gate_dims['comp_ref'].unique()\n",
        "if len(comp_refs) > 1:\n",
        "  raise ValueError(\"More than one compensation ref found!\")\n",
        "\n",
        "comp_ref = comp_refs[0]"
      ],
      "id": "377f36d9",
      "execution_count": null,
      "outputs": []
    },
    {
      "cell_type": "markdown",
      "metadata": {},
      "source": [
        "#### Create Threshold Gates\n",
        "\n",
        "This step consists of essentially 2 parts:\n",
        "\n",
        "1.  If multiple threshold values were defined for a single child channel in FlowJo, find the mean among the min and max values\n",
        "\n",
        "-   Multiple threshold values can be defined when, for example, an analyst creates gates from scatter plots with the same channel multiple times\n",
        "\n",
        "2.  For each child channel, create 2 new threshold gates:\n",
        "3.  Positive\n",
        "4.  Negative\n",
        "\n",
        "**Note:** We determined above that the max values for the child rectangle gates are irrelevant, so we create our threshold gates based on the min values.\n"
      ],
      "id": "56e9f6ba"
    },
    {
      "cell_type": "code",
      "metadata": {},
      "source": [
        "# Define unique channel labels\n",
        "range_pnn_labels = df_gate_dims.pnn_label.unique()\n",
        "\n",
        "# This will hold the list of gate pairs (neg & pos) for each channel\n",
        "gate_pairs = []\n",
        "\n",
        "for label in range_pnn_labels:\n",
        "  # Get rows for this channel from df_gate_dims\n",
        "  df_label = df_gate_dims[df_gate_dims.pnn_label == label]\n",
        "  \n",
        "  # This will hold threshold values\n",
        "  all_values = []\n",
        "  # Extract just the min values (exclude missing)\n",
        "  all_values.extend(df_label[df_label['min'].notna()]['min'])\n",
        "  #all_values.extend(df_label[df_label['max'].notna()]['max'])\n",
        "  \n",
        "  # Calculate the mean among the min threshold values for this channel\n",
        "  mean_value = np.mean(all_values)\n",
        "  \n",
        "  # Extract a channel/marker label from the pnn_label\n",
        "  # pns_label = channel_lut[label] #If we had pns_labels, we would use the lookup table\n",
        "  pns_label = copy.copy(label) #The pns_label is the pnn_label, so just copy the 'label' loop variable\n",
        "  marker_label = pns_label.split()[0] #Split the label by spaces and extract the first element\n",
        "  \n",
        "  # Create labels for negative and positive gates\n",
        "  gate_label_neg = parent_gate_name + '_' + marker_label + '-'\n",
        "  gate_label_pos = parent_gate_name + '_' + marker_label + '+'\n",
        "  # Collect the labels in gate_pairs\n",
        "  gate_pairs.append([gate_label_pos, gate_label_neg])\n",
        "  \n",
        "  # Define the dimensions\n",
        "  # Negative will be a range gate where max is specified but not min\n",
        "  # Positive will be a range gate where min is specified but not max\n",
        "  # By convention the xform ref in FlowJo is tied to the channel PnN name\n",
        "  dim_neg = fk.Dimension(\n",
        "      label,\n",
        "      compensation_ref=comp_ref,\n",
        "      transformation_ref=label,\n",
        "      range_min=None,\n",
        "      range_max=mean_value\n",
        "  )\n",
        "  dim_pos = fk.Dimension(\n",
        "      label,\n",
        "      compensation_ref=comp_ref,\n",
        "      transformation_ref=label,\n",
        "      range_min=mean_value,\n",
        "      range_max=None\n",
        "  )\n",
        "  \n",
        "  # Create the threshold gates using the dimensions defined above\n",
        "  gate_neg = fk.gates.RectangleGate(\n",
        "      gate_label_neg,\n",
        "      parent_gate_name,\n",
        "      dimensions=[dim_neg]\n",
        "  )\n",
        "  gate_pos = fk.gates.RectangleGate(\n",
        "      gate_label_pos,\n",
        "      parent_gate_name,\n",
        "      dimensions=[dim_pos]\n",
        "  )\n",
        "  \n",
        "  # Add the gates to the session\n",
        "  session.add_gate(gate_neg, group_name=sample_group)\n",
        "  session.add_gate(gate_pos, group_name=sample_group)"
      ],
      "id": "b748bdae",
      "execution_count": null,
      "outputs": []
    },
    {
      "cell_type": "markdown",
      "metadata": {},
      "source": [
        "### Create Boolean Gates\n",
        "\n",
        "#### Generate Index Permutations\n",
        "\n",
        "Derive all possible permutations with repetition with 2 possible values (+ and -) for the number of child gates. This defines the number of mutually exclusive cell subsets using all possible combinations of these child gates.\n",
        "\n",
        "In this example, since we have 4 child gates, there are $2^4 = 16$ possible mutually-exclusive cell subsets.\n"
      ],
      "id": "d15b9ed9"
    },
    {
      "cell_type": "code",
      "metadata": {},
      "source": [
        "# Find the number of unique channels\n",
        "n_channels = len(gate_pairs)\n",
        "# Derive the permutations using 0 and 1 for + and -\n",
        "idx_combos = itertools.product([0, 1], repeat=n_channels)\n",
        "\n",
        "print(list(gate_pairs))"
      ],
      "id": "2c3a2892",
      "execution_count": null,
      "outputs": []
    },
    {
      "cell_type": "markdown",
      "metadata": {},
      "source": [
        "#### Convert Index Permutations to Threshold Gate Permutations\n"
      ],
      "id": "d60eabc7"
    },
    {
      "cell_type": "code",
      "metadata": {},
      "source": [
        "# This will hold the set of gate names for each one of our divisions\n",
        "bool_gate_name_combos = []\n",
        "\n",
        "# Loop over each permutation\n",
        "for ic in idx_combos:\n",
        "  \n",
        "  # Enumerate over the permutation and extract the corresponding threshold gate\n",
        "  bool_gate_name_combos.append(\n",
        "    # i indexes the threshold gates in gate_pairs\n",
        "    # idx indexes + or - versions of each threshold gate\n",
        "    [gate_pairs[i][idx] for i, idx in enumerate(ic)]\n",
        "  )"
      ],
      "id": "9e118789",
      "execution_count": null,
      "outputs": []
    },
    {
      "cell_type": "markdown",
      "metadata": {},
      "source": [
        "#### Create the Boolean Gates\n"
      ],
      "id": "3363aa6a"
    },
    {
      "cell_type": "code",
      "metadata": {},
      "source": [
        "# This will hold the boolean gate unique IDs\n",
        "bool_gate_ids = []\n",
        "\n",
        "for gate_name_combos in bool_gate_name_combos:\n",
        "  # Collapse the gate permutations into a single comma-sep gate ID\n",
        "  bool_gate_id = \",\".join(gate_name_combos)\n",
        "  # Append the gate IDs\n",
        "  bool_gate_ids.append(bool_gate_id)\n",
        "    \n",
        "  # This will hold the boolean gate references (name, path, complement)\n",
        "  gate_refs = []\n",
        "  \n",
        "  # For each boolean gate, define the reference\n",
        "  for gate_name in gate_name_combos:\n",
        "    gate_ref = {\n",
        "      'ref': gate_name,\n",
        "      'path': parent_gate_path,\n",
        "      'complement': False\n",
        "    }\n",
        "    # Append the gate references\n",
        "    gate_refs.append(gate_ref)\n",
        "        \n",
        "  # Define the boolean gate\n",
        "  # Note that we define the parent of the boolean gates as the parent of their component gates, but this is not strictly necessary\n",
        "  bool_gate = fk.gates.BooleanGate(\n",
        "      bool_gate_id, #Assign a unique gate name\n",
        "      parent_gate_name, #Assigning the parent for this boolean gate\n",
        "      'and', #Apply 'and' operation to all gate_refs\n",
        "      gate_refs #The reference\n",
        "  )\n",
        "   \n",
        "  # Add the boolean gate to the session \n",
        "  session.add_gate(bool_gate, group_name = sample_group)"
      ],
      "id": "01aeecc4",
      "execution_count": null,
      "outputs": []
    },
    {
      "cell_type": "markdown",
      "metadata": {},
      "source": [
        "#### Visualize the New Boolean Gates in the Gating Hierarchy\n"
      ],
      "id": "2421f24c"
    },
    {
      "cell_type": "code",
      "metadata": {},
      "source": [
        "print(session.get_gate_hierarchy(sample_group))"
      ],
      "id": "51e28468",
      "execution_count": null,
      "outputs": []
    },
    {
      "cell_type": "markdown",
      "metadata": {},
      "source": [
        "We can now see that we have added two sets of gates to our gating hierarchy:\n",
        "\n",
        "1.  \n",
        "\n",
        "    -   and - threshold gates for each child channel\n",
        "\n",
        "-   Recall that we used the mean cutoff value from the rectangle gates imported from FlowJo\n",
        "\n",
        "2.  Boolean gates for all possible permutations of the child gates\n",
        "\n",
        "-   These define mutually-exclusive subsets within CD4+ events\n",
        "\n",
        "Note that while we chose a single sample from the sample group to derive these boolean gates, because all samples in a group have identical gating hierarchy, they will be valid for all samples.\n",
        "\n",
        "### Calculate Counts for Each Cell Subset\n",
        "\n",
        "#### Re-Analyze Samples\n",
        "\n",
        "We need to re-analyze because we added new gates\n"
      ],
      "id": "5cfb66a2"
    },
    {
      "cell_type": "code",
      "metadata": {},
      "source": [
        "session.analyze_samples(sample_group, verbose = False)"
      ],
      "id": "37341b0e",
      "execution_count": null,
      "outputs": []
    },
    {
      "cell_type": "markdown",
      "metadata": {},
      "source": [
        "#### Generate Sample Group Report\n"
      ],
      "id": "57f7b412"
    },
    {
      "cell_type": "code",
      "metadata": {},
      "source": [
        "group_report = session.get_group_report(sample_group)"
      ],
      "id": "a4088bc7",
      "execution_count": null,
      "outputs": []
    },
    {
      "cell_type": "markdown",
      "metadata": {},
      "source": [
        "Display the report for just the boolean gates\n",
        "\n",
        "#### Show Report for Each Sample in Sample Group\n",
        "\n",
        "**Notes:**\n",
        "\n",
        "- The 'relative_percent' column gives the percentage of events in a category relative to the total number of events in the parent gate (in this case CD4+)\n",
        "- The 'absolute_percent' column gives the percentage of events in a category relative to the total number of events in the entire dataset.\n",
        "\n",
        "First, define a function to show a slice of the full report for the sample of interest. "
      ],
      "id": "f50c9468"
    },
    {
      "cell_type": "code",
      "metadata": {},
      "source": [
        "def sample_report(sample_name):\n",
        "  sample_report = group_report.loc[(group_report['gate_type'] == 'BooleanGate') & (group_report['parent'] == parent_gate_name) & (group_report['sample'] == sample_name),\n",
        "                   ('gate_name', 'count', 'relative_percent', 'absolute_percent')]\n",
        "  return(sample_report)"
      ],
      "id": "c2df8b70",
      "execution_count": null,
      "outputs": []
    },
    {
      "cell_type": "code",
      "metadata": {},
      "source": [
        "#| echo: false\n",
        "cur_sample = sample_list[0]\n",
        "from IPython.display import display, Markdown\n",
        "display(Markdown(\"\"\"\n",
        "##### Report for {cur_sample}.\n",
        "\"\"\".format(cur_sample = cur_sample)))"
      ],
      "id": "d6658f2b",
      "execution_count": null,
      "outputs": []
    },
    {
      "cell_type": "code",
      "metadata": {},
      "source": [
        "sample_report(sample_list[0])"
      ],
      "id": "f7fab2ee",
      "execution_count": null,
      "outputs": []
    },
    {
      "cell_type": "code",
      "metadata": {},
      "source": [
        "#| echo: false\n",
        "cur_sample = sample_list[1]\n",
        "from IPython.display import display, Markdown\n",
        "display(Markdown(\"\"\"\n",
        "##### Report for {cur_sample}.\n",
        "\"\"\".format(cur_sample = cur_sample)))"
      ],
      "id": "c4982a23",
      "execution_count": null,
      "outputs": []
    },
    {
      "cell_type": "code",
      "metadata": {},
      "source": [
        "sample_report(sample_list[1])"
      ],
      "id": "0d5449ce",
      "execution_count": null,
      "outputs": []
    },
    {
      "cell_type": "code",
      "metadata": {},
      "source": [
        "#| echo: false\n",
        "cur_sample = sample_list[2]\n",
        "from IPython.display import display, Markdown\n",
        "display(Markdown(\"\"\"\n",
        "##### Report for {cur_sample}.\n",
        "\"\"\".format(cur_sample = cur_sample)))"
      ],
      "id": "f99cba27",
      "execution_count": null,
      "outputs": []
    },
    {
      "cell_type": "code",
      "metadata": {},
      "source": [
        "sample_report(sample_list[2])"
      ],
      "id": "348671d6",
      "execution_count": null,
      "outputs": []
    },
    {
      "cell_type": "markdown",
      "metadata": {},
      "source": [
        "#### Extract Counts for Samples of Interest\n",
        "\n",
        "COMPASS needs input samples to be paired observations of the same biological sample under two different experimental conditions (ie. stimulated vs unstimulated). For this dataset, the sample name with 'E01' is unstimulated and the sample name with 'E03' is stimulated with cytomegalovirus (CMV). We will save the reports with cell proportions for just those two samples. \n"
      ],
      "id": "0f357849"
    },
    {
      "cell_type": "code",
      "metadata": {},
      "source": [
        "counts_CMV = sample_report(sample_list[0])\n",
        "counts_HIV = sample_report(sample_list[1])\n",
        "counts_unstim = sample_report(sample_list[2])"
      ],
      "id": "6df1f3d9",
      "execution_count": null,
      "outputs": []
    },
    {
      "cell_type": "markdown",
      "metadata": {},
      "source": [
        "### Extract Events for Each Population\n",
        "\n",
        "**Note:** We may not need this data according to Lynn in a meeting, but the [COMPASS vignette](https://www.bioconductor.org/packages/devel/bioc/vignettes/COMPASS/inst/doc/COMPASS.html) shows that we do.\n"
      ],
      "id": "ab795611"
    },
    {
      "cell_type": "code",
      "metadata": {},
      "source": [
        "# for group_report:\n",
        "# session.get_wsp_gated_events(group_name = sample_group,\n",
        "#                              sample_ids = sample_list,\n",
        "#                              gate_name = ,\n",
        "#                              gate_path =\n",
        "#                             )"
      ],
      "id": "d958d6a4",
      "execution_count": null,
      "outputs": []
    },
    {
      "cell_type": "markdown",
      "metadata": {},
      "source": [
        "## Running COMPASS\n",
        "\n",
        "### Brief Background of COMPASS\n",
        "\n",
        "COMPASS is a tool that uses mixture models.\n",
        "\n",
        "Provides two summary outputs for each subject/individual:\n",
        "\n",
        "1. The functionality score (FS): Defined as the proportion of antigen-specific subsets detected among all possible ones\n",
        "2. The polyfunctionality score (PFS) is similar, but it weighs the different subsets by their degree of functionality, naturally favoring subsets with higher degrees of functionality, motivated by the observations that a higher-degree function has been correlated with good outcomes in certain vaccine studies\n",
        "\n",
        "\n",
        "```{r}\n",
        "library(reticulate); library(COMPASS); library(tidyverse); library(readxl)\n",
        "```\n",
        "\n",
        "\n",
        "### Data Setup\n",
        "\n",
        "#### Transfer Count Data from Python\n",
        "\n",
        "We can transfer the counts objects from the Python environment to the R environment easily using the syntax 'py$'\n",
        "\n",
        "\n",
        "```{r}\n",
        "counts.unstim <- py$counts_unstim\n",
        "counts.CMV <- py$counts_CMV\n",
        "counts.HIV <- py$counts_HIV\n",
        "```\n",
        "\n",
        "\n",
        "#### Create Data Matrices\n",
        "\n",
        "We create a matrix for CMV- and HIV-stimulated samples, and for the unstimulated sample by transposing the counts vectors. \n",
        "\n",
        "\n",
        "```{r}\n",
        "mat.unstim <- as.matrix(\n",
        "  t(counts.unstim$count)\n",
        ")\n",
        "\n",
        "mat.CMV <- as.matrix(\n",
        "  t(counts.CMV$count)\n",
        ")\n",
        "\n",
        "mat.HIV <- as.matrix(\n",
        "  t(counts.HIV$count)\n",
        ")\n",
        "```\n",
        "\n",
        "\n",
        "Next, we assign the unique gate names to the columns of each matrix. We remove the 'CD4+_' prefix and any commas in accordance with the requirements of COMPASS. \n",
        "\n",
        "\n",
        "```{r}\n",
        "colnames(mat.unstim) <- gsub(',', '', gsub('CD4\\\\+_', '', counts.unstim$gate_name))\n",
        "colnames(mat.CMV) <- gsub(',', '', gsub('CD4\\\\+_', '', counts.CMV$gate_name))\n",
        "colnames(mat.HIV) <- gsub(',', '', gsub('CD4\\\\+_', '', counts.HIV$gate_name))\n",
        "```\n",
        "\n",
        "\n",
        "#### Create Metadata\n",
        "\n",
        "The metadata should include unique sample IDs and any other relevant information.\n",
        "\n",
        "**Note:** Our dataset is somewhat unconventional in that we have two stimulation conditions and an unstimulated control for our single sample. In addition, COMPASS requires at least 2 comparisons of stimulated vs control. Therefore, for the purposes of this vignette, we will consider the CMV-stimulated and the HIV-stimulated replicates as two samples even though they originate from the same biological sample. \n",
        "\n",
        "We first need to prepare the sample IDs using the raw FCS file names from the Python object 'sample_list'. We parse these file names using '_' and extract the relevant terms for these samples. We then append a count to each of these to make them unique. \n",
        "\n",
        "\n",
        "```{r}\n",
        "sample.ids <- as.data.frame(py$sample_list) %>%\n",
        "  tidyr::separate(sep = \"_\", col = \"py$sample_list\", into = c(NA, \"sample\", NA, NA, NA, NA)) %>%\n",
        "  deframe() %>%\n",
        "  paste(c(\"1\", \"2\", \"3\"), sep = \"_\")\n",
        "```\n",
        "\n",
        "\n",
        "Now we can make the metadata object with the unique sample IDs, an indicator variable for stimulated vs unstimulated, and a variable indicating the type of stimulation.\n",
        "\n",
        "\n",
        "```{r}\n",
        "metadata <- data.frame(\n",
        "  unique_id = sample.ids,\n",
        "  Stimulation = c(\"unstim\", \"stim\", \"stim\"),\n",
        "  Group = c(\"unstim\", \"CMV\", \"HIV\")\n",
        ")\n",
        "```\n",
        "\n",
        "\n",
        "#### Combine CMV and HIV\n",
        "\n",
        "As noted above, we treat the CMV-stimulated and HIV-stimulated replicates for this single sample as two samples for this analysis. In order to do so, we need to combine the CMV and HIV count matrices row-wise into a single matrix. We also create an unstimulated matrix by repeating the single vector of unstimulated counts twice row-wise into a matrix. While unconventional, this will provide CMV-stimulated vs unstimulated and HIV-stimulated vs unstimulated comparisons. \n",
        "\n",
        "\n",
        "```{r}\n",
        "mat.stim <- rbind(mat.CMV, mat.HIV)\n",
        "mat.unstim <- rbind(mat.unstim[1,], mat.unstim[1,])\n",
        "```\n",
        "\n",
        "\n",
        "#### Assign Rownames\n",
        "\n",
        "The rownames of both count matrices need to match the \"unique_id\" column of the metadata dataframe, so we assign them accordingly.\n",
        "\n",
        "\n",
        "```{r}\n",
        "rownames(mat.stim) <- metadata$unique_id[metadata$Group %in% c(\"CMV\", \"HIV\")]\n",
        "rownames(mat.unstim) <- metadata$unique_id[metadata$Group %in% c(\"CMV\", \"HIV\")]\n",
        "```\n",
        "\n",
        "\n",
        "#### Subset Metadata\n",
        "\n",
        "The number of rows in the metadata object need to match the number of rows in each count matrix. We therefore subset to include only the stimulated samples.\n",
        "\n",
        "\n",
        "```{r}\n",
        "metadata <- metadata[metadata$Group %in% c(\"CMV\", \"HIV\") ,]\n",
        "```\n",
        "\n",
        "\n",
        "#### Reformat Cell Subset Names\n",
        "\n",
        "Above we assigned the column names of each data matrix as the unique gating hierarchy/combination for each cell subset where a '+' indicates the marker is expressed and '-' indicates that it is not. COMPASS requires these strings to be in a specific format, and contains a function to parse an existing string into the proper format that it expects. Notably, '-' is converted into the 'not' operator !. \n",
        "\n",
        "\n",
        "```{r}\n",
        "colnames(mat.stim) <- COMPASS:::translate_marker_names(colnames(mat.stim))\n",
        "colnames(mat.unstim) <- COMPASS:::translate_marker_names(colnames(mat.unstim))\n",
        "\n",
        "colnames(mat.stim)\n",
        "```\n",
        "\n",
        "\n",
        "#### Checks\n",
        "\n",
        "**Important:** COMPASS requires that the final column of each count matrix is the cell subset in which all markers are '-'. Luckily, we created the boolean gates above in such a way that this ended up being the case. Below we check this to make sure. \n",
        "\n",
        "\n",
        "```{r checks}\n",
        "# Check that the last column contains the subset with all markers being '-'\n",
        "colnames(mat.stim)[ncol(mat.stim)]\n",
        "\n",
        "# Check that the number of columns for the two count matrices match\n",
        "ncol(mat.stim); ncol(mat.unstim); \n",
        "\n",
        "# Check that both counts matrices are actually matrices and that the metadata objec is a dataframe\n",
        "is.matrix(mat.stim); is.matrix(mat.unstim); is.data.frame(metadata)\n",
        "```\n",
        "\n",
        "\n",
        "### Fit COMPASS Model\n",
        "\n",
        "Finally, we can fit the COMPASS model by passing our data objects to the SimpleCOMPASS() function. We also specify that the variable within the metadata object indicating individual samples is \"unique_id\". \n",
        "\n",
        "\n",
        "```{r COMPASS, include = FALSE}\n",
        "compass.fit = COMPASS::SimpleCOMPASS(n_s = mat.stim,\n",
        "                                     n_u = mat.unstim,\n",
        "                                     meta = metadata,\n",
        "                                     individual_id = \"unique_id\",\n",
        "                                     iterations = 10000,\n",
        "                                     replications = 8,\n",
        "                                     verbose = FALSE\n",
        ")\n",
        "```\n",
        "\n",
        "\n",
        "### COMPASS Results\n",
        "\n",
        "#### Heatmap\n",
        "\n",
        "We can plot a heatmap of the mean probability of response in order to visualize differences in expression for each type of stimulation relative to the unstimulated sample.\n",
        "\n",
        "\n",
        "```{r}\n",
        "plot(compass.fit, \"Group\")\n",
        "```\n",
        "\n",
        "\n",
        "#### Functional and PolyFunctional Scores\n",
        "\n",
        "These are measures of the overall level of 'functionality' of a cell, which has shown to be correlated with a cell's affinity in immune response. \n",
        "\n",
        "\n",
        "```{r}\n",
        "FS <- FunctionalityScore(compass.fit)\n",
        "PFS <- PolyfunctionalityScore(compass.fit)\n",
        "\n",
        "metadata$FS <- FS\n",
        "metadata$PFS <- PFS\n",
        "\n",
        "metadata\n",
        "```\n",
        "\n",
        "```{r}\n",
        "sessionInfo()\n",
        "```"
      ],
      "id": "e0ab3cfb"
    }
  ],
  "metadata": {
    "kernelspec": {
      "name": "python3",
      "language": "python",
      "display_name": "Python 3 (ipykernel)"
    }
  },
  "nbformat": 4,
  "nbformat_minor": 5
}